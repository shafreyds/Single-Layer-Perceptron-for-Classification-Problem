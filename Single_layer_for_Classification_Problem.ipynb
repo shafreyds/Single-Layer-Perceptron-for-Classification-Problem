{
  "nbformat": 4,
  "nbformat_minor": 0,
  "metadata": {
    "colab": {
      "provenance": []
    },
    "kernelspec": {
      "name": "python3",
      "display_name": "Python 3"
    },
    "language_info": {
      "name": "python"
    }
  },
  "cells": [
    {
      "cell_type": "code",
      "execution_count": null,
      "metadata": {
        "colab": {
          "base_uri": "https://localhost:8080/"
        },
        "id": "OGpOXwoUQRHO",
        "outputId": "4060c195-027a-47c4-e357-7402f5527d25"
      },
      "outputs": [
        {
          "output_type": "stream",
          "name": "stdout",
          "text": [
            "[1 0]\n"
          ]
        }
      ],
      "source": [
        "import numpy as np\n",
        "\n",
        "# Define the perceptron function\n",
        "def perceptron(X, y, learning_rate=0.1, n_iterations=100):\n",
        "    # Initialize the weights and bias\n",
        "    weights = np.zeros(X.shape[1])\n",
        "    bias = 0\n",
        "\n",
        "    # Train the model\n",
        "    for i in range(n_iterations):\n",
        "        for j in range(X.shape[0]):\n",
        "            # Compute the output of the perceptron\n",
        "            output = np.dot(X[j], weights) + bias\n",
        "            prediction = 1 if output >= 0 else 0\n",
        "\n",
        "            # Update the weights and bias based on the prediction and the actual label\n",
        "            error = y[j] - prediction\n",
        "            weights += learning_rate * error * X[j]\n",
        "            bias += learning_rate * error\n",
        "\n",
        "    return weights, bias\n",
        "\n",
        "# Create a random binary classification dataset\n",
        "X = np.array([[1, 1], [-1, -1], [2, 2], [-2, -2]])\n",
        "y = np.array([1, 0, 1, 0])\n",
        "\n",
        "# Train the perceptron on the dataset\n",
        "weights, bias = perceptron(X, y)\n",
        "\n",
        "# Make predictions on a new set of data\n",
        "new_data = np.array([[1, 1], [-1, -1]])\n",
        "output = np.dot(new_data, weights) + bias\n",
        "predictions = np.where(output >= 0, 1, 0)\n",
        "\n",
        "print(predictions)\n"
      ]
    }
  ]
}